{
 "cells": [
  {
   "cell_type": "markdown",
   "metadata": {},
   "source": [
    "# Как пользоваться моим кодом?"
   ]
  },
  {
   "cell_type": "markdown",
   "metadata": {},
   "source": [
    "# Как импортировать мою либу\n",
    "from get_client_ips import *"
   ]
  },
  {
   "cell_type": "markdown",
   "metadata": {},
   "source": [
    "Что нужно передать в мою программу:\n",
    "    1) интерфейс в виде строки (в терминале ifconfig -a)\n",
    "    2) коммуникационный домем, по умолчанию AF_INET\n",
    "    3) Порт на котором Вы хотите найти клиента, по умолчанию 51815\n",
    "    4) True/False - хотите ли вы увидеть debug информацию, по умолчанию True \n",
    "    5) Маску сети, с которой на которой вы хотите искать клиентов, по умолчанию - 24"
   ]
  },
  {
   "cell_type": "markdown",
   "metadata": {},
   "source": [
    "Пробуем запустить наш код:"
   ]
  },
  {
   "cell_type": "code",
   "execution_count": 2,
   "metadata": {},
   "outputs": [
    {
     "name": "stdout",
     "output_type": "stream",
     "text": [
      "['lo', 'enp4s0', 'outline-tun0', 'docker0']\n",
      "Host is [{'addr': '192.160.21.19', 'netmask': '255.255.0.0', 'broadcast': '192.160.255.255'}]\n",
      "Iv4 is 192.160.21.19/255.255.255.0\n",
      "my net is 192.160.21.0/24\n",
      "search_port is 51815\n"
     ]
    },
    {
     "data": {
      "text/plain": [
       "[]"
      ]
     },
     "execution_count": 2,
     "metadata": {},
     "output_type": "execute_result"
    }
   ],
   "source": [
    "get_client_ips(target_interface = \"enp4s0\", mask = \"255.255.255.0\")"
   ]
  },
  {
   "cell_type": "markdown",
   "metadata": {},
   "source": [
    "***"
   ]
  }
 ],
 "metadata": {
  "kernelspec": {
   "display_name": "Python 3",
   "language": "python",
   "name": "python3"
  },
  "language_info": {
   "codemirror_mode": {
    "name": "ipython",
    "version": 3
   },
   "file_extension": ".py",
   "mimetype": "text/x-python",
   "name": "python",
   "nbconvert_exporter": "python",
   "pygments_lexer": "ipython3",
   "version": "3.8.10"
  }
 },
 "nbformat": 4,
 "nbformat_minor": 5
}
