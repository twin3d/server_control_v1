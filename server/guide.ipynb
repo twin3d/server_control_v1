{
 "cells": [
  {
   "cell_type": "markdown",
   "id": "affecting-trigger",
   "metadata": {},
   "source": [
    "# Как пользоваться моим кодом?"
   ]
  },
  {
   "cell_type": "code",
   "execution_count": 1,
   "id": "inclusive-newcastle",
   "metadata": {},
   "outputs": [],
   "source": [
    "# Как импортировать мою либу\n",
    "from get_client_ips import *"
   ]
  },
  {
   "cell_type": "markdown",
   "id": "previous-background",
   "metadata": {},
   "source": [
    "Пробуем запустить наш код:"
   ]
  },
  {
   "cell_type": "code",
   "execution_count": 2,
   "id": "optimum-seminar",
   "metadata": {},
   "outputs": [
    {
     "name": "stdout",
     "output_type": "stream",
     "text": [
      "['lo', 'enp4s0', 'outline-tun0', 'docker0']\n",
      "Host is [{'addr': '192.160.21.19', 'netmask': '255.255.0.0', 'broadcast': '192.160.255.255'}]\n",
      "Iv4 is 192.160.21.19/255.255.255.0\n",
      "my net is 192.160.21.0/24\n",
      "search_port is 51815\n"
     ]
    },
    {
     "data": {
      "text/plain": [
       "[]"
      ]
     },
     "execution_count": 2,
     "metadata": {},
     "output_type": "execute_result"
    }
   ],
   "source": [
    "get_client_ips(target_interface = \"enp4s0\", mask = \"255.255.255.0\")"
   ]
  },
  {
   "cell_type": "code",
   "execution_count": 3,
   "id": "noted-stationery",
   "metadata": {},
   "outputs": [
    {
     "name": "stdout",
     "output_type": "stream",
     "text": [
      "['lo', 'enp4s0', 'outline-tun0', 'docker0']\n",
      "Host is [{'addr': '192.160.21.19', 'netmask': '255.255.0.0', 'broadcast': '192.160.255.255'}]\n",
      "Iv4 is 192.160.21.19/255.255.0.0\n",
      "my net is 192.160.0.0/16\n",
      "search_port is 51815\n"
     ]
    },
    {
     "data": {
      "text/plain": [
       "[]"
      ]
     },
     "execution_count": 3,
     "metadata": {},
     "output_type": "execute_result"
    }
   ],
   "source": [
    "get_client_ips(target_interface = \"enp4s0\")"
   ]
  },
  {
   "cell_type": "markdown",
   "id": "annoying-papua",
   "metadata": {},
   "source": [
    "***"
   ]
  },
  {
   "cell_type": "code",
   "execution_count": 6,
   "id": "7b19ab22",
   "metadata": {},
   "outputs": [
    {
     "name": "stdout",
     "output_type": "stream",
     "text": [
      "['lo', 'enp7s0']\n",
      "Addrs is {17: [{'addr': 'd8:cb:8a:9c:c3:c9', 'broadcast': 'ff:ff:ff:ff:ff:ff'}], 2: [{'addr': '192.168.31.88', 'netmask': '255.255.255.0', 'broadcast': '192.168.31.255'}], 10: [{'addr': 'fe80::f19:e23c:628b:99c0%enp7s0', 'netmask': 'ffff:ffff:ffff:ffff::'}]}\n",
      "Host is [{'addr': '192.168.31.88', 'netmask': '255.255.255.0', 'broadcast': '192.168.31.255'}]\n",
      "Iv4 is 192.168.31.88/255.255.0.0\n",
      "my net is 192.168.0.0/16\n",
      "Found client on 192.168.31.1\n",
      "Found client on 192.168.31.88\n",
      "6.713209390640259 seconds\n",
      "[IPv4Address('192.168.31.1'), IPv4Address('192.168.31.88')]\n"
     ]
    }
   ],
   "source": [
    "import socket, netifaces, ipaddress\n",
    "import time\n",
    "from threading import *\n",
    "\n",
    "def connect(addr,search_port):\n",
    "    #print(addr)\n",
    "    sock = socket.socket(socket.AF_INET, socket.SOCK_STREAM)\n",
    "    sock.settimeout(0.001)\n",
    "    result = sock.connect_ex((str(addr),int(search_port)))\n",
    "    if result == 0:\n",
    "        print(f\"Found client on {addr}\")\n",
    "        global clients\n",
    "        clients.append(addr)\n",
    "        \n",
    "start_time = time.time()\n",
    "\n",
    "target_interface=\"enp7s0\"\n",
    "family='AF_INET'\n",
    "search_port = \"80\" \n",
    "debug = True\n",
    "'''This function scans the network and looks for open ports in it. \n",
    "Returns a list of ip addresses that have the corresponding port open  '''\n",
    "clients = []\n",
    "\n",
    "interface_list=netifaces.interfaces() #получить список интерфейсов\n",
    "if debug == True:\n",
    "    print(interface_list)\n",
    "if target_interface not in interface_list:\n",
    "    print(\"You have entered the wrong target_interface\")\n",
    "\n",
    "\n",
    "addrs = netifaces.ifaddresses(target_interface)\n",
    "if debug == True:\n",
    "    print(f\"Addrs is {addrs}\")\n",
    "host=addrs[netifaces.AF_INET]\n",
    "if debug == True:\n",
    "    print(f\"Host is {host}\")\n",
    "ipv4=host[0]['addr']\n",
    "mask=host[0]['netmask']\n",
    "mask='255.255.0.0'\n",
    "if debug == True:\n",
    "    print(f\"Iv4 is {ipv4}/{mask}\")\n",
    "\n",
    "s=ipv4+\"/\"+mask\n",
    "net = ipaddress.IPv4Network(s, strict=False)\n",
    "if debug == True:\n",
    "    print(\"my net is\", net)\n",
    "\n",
    "for addr in net:\n",
    "    #connect(addr,search_port)\n",
    "    t=Thread(target = connect, args = (addr,search_port))\n",
    "    t.start()\n",
    "\n",
    "print (time.time() - start_time, \"seconds\")\n",
    "print(clients)\n",
    "\n",
    "\n"
   ]
  },
  {
   "cell_type": "code",
   "execution_count": 17,
   "id": "1f905586",
   "metadata": {},
   "outputs": [],
   "source": [
    "def sum(a,b):\n",
    "    print(c)\n",
    "    return a + b\n",
    "def super_sum():\n",
    "    global c\n",
    "    c = 1\n",
    "    b = 2\n",
    "    a = 1\n",
    "    sum(a,b)"
   ]
  },
  {
   "cell_type": "code",
   "execution_count": 18,
   "id": "indian-personality",
   "metadata": {},
   "outputs": [
    {
     "name": "stdout",
     "output_type": "stream",
     "text": [
      "1\n"
     ]
    }
   ],
   "source": [
    "super_sum()"
   ]
  },
  {
   "cell_type": "code",
   "execution_count": 5,
   "id": "surgical-combination",
   "metadata": {},
   "outputs": [
    {
     "data": {
      "text/plain": [
       "[0.0,\n",
       " 1.0,\n",
       " 1.4142135623730951,\n",
       " 1.7320508075688772,\n",
       " 2.0,\n",
       " 2.23606797749979,\n",
       " 2.449489742783178,\n",
       " 2.6457513110645907,\n",
       " 2.8284271247461903,\n",
       " 3.0,\n",
       " 3.1622776601683795,\n",
       " 3.3166247903554,\n",
       " 3.4641016151377544,\n",
       " 3.605551275463989,\n",
       " 3.7416573867739413,\n",
       " 3.872983346207417,\n",
       " 4.0,\n",
       " 4.123105625617661,\n",
       " 4.242640687119285,\n",
       " 4.358898943540674,\n",
       " 4.47213595499958,\n",
       " 4.58257569495584,\n",
       " 4.69041575982343,\n",
       " 4.795831523312719,\n",
       " 4.898979485566356,\n",
       " 5.0,\n",
       " 5.0990195135927845,\n",
       " 5.196152422706632,\n",
       " 5.291502622129181,\n",
       " 5.385164807134504,\n",
       " 5.477225575051661,\n",
       " 5.5677643628300215,\n",
       " 5.656854249492381,\n",
       " 5.744562646538029,\n",
       " 5.830951894845301,\n",
       " 5.916079783099616,\n",
       " 6.0,\n",
       " 6.082762530298219,\n",
       " 6.164414002968976,\n",
       " 6.244997998398398,\n",
       " 6.324555320336759,\n",
       " 6.4031242374328485,\n",
       " 6.48074069840786,\n",
       " 6.557438524302,\n",
       " 6.6332495807108,\n",
       " 6.708203932499369,\n",
       " 6.782329983125268,\n",
       " 6.855654600401044,\n",
       " 6.928203230275509,\n",
       " 7.0,\n",
       " 7.0710678118654755,\n",
       " 7.14142842854285,\n",
       " 7.211102550927978,\n",
       " 7.280109889280518,\n",
       " 7.3484692283495345,\n",
       " 7.416198487095663,\n",
       " 7.483314773547883,\n",
       " 7.54983443527075,\n",
       " 7.615773105863909,\n",
       " 7.681145747868608,\n",
       " 7.745966692414834,\n",
       " 7.810249675906654,\n",
       " 7.874007874011811,\n",
       " 7.937253933193772,\n",
       " 8.0,\n",
       " 8.06225774829855,\n",
       " 8.12403840463596,\n",
       " 8.18535277187245,\n",
       " 8.246211251235321,\n",
       " 8.306623862918075,\n",
       " 8.366600265340756,\n",
       " 8.426149773176359,\n",
       " 8.48528137423857,\n",
       " 8.54400374531753,\n",
       " 8.602325267042627,\n",
       " 8.660254037844387,\n",
       " 8.717797887081348,\n",
       " 8.774964387392123,\n",
       " 8.831760866327848,\n",
       " 8.888194417315589,\n",
       " 8.94427190999916,\n",
       " 9.0,\n",
       " 9.055385138137417,\n",
       " 9.1104335791443,\n",
       " 9.16515138991168,\n",
       " 9.219544457292887,\n",
       " 9.273618495495704,\n",
       " 9.327379053088816,\n",
       " 9.38083151964686,\n",
       " 9.433981132056603,\n",
       " 9.486832980505138,\n",
       " 9.539392014169456,\n",
       " 9.591663046625438,\n",
       " 9.643650760992955,\n",
       " 9.695359714832659,\n",
       " 9.746794344808963,\n",
       " 9.797958971132712,\n",
       " 9.848857801796104,\n",
       " 9.899494936611665,\n",
       " 9.9498743710662]"
      ]
     },
     "execution_count": 5,
     "metadata": {},
     "output_type": "execute_result"
    }
   ],
   "source": [
    "from math import sqrt\n",
    "[sqrt(i) for i in range(100)]\n"
   ]
  },
  {
   "cell_type": "code",
   "execution_count": 6,
   "id": "gross-circulation",
   "metadata": {},
   "outputs": [],
   "source": [
    "import psutil"
   ]
  },
  {
   "cell_type": "code",
   "execution_count": 8,
   "id": "virtual-glucose",
   "metadata": {},
   "outputs": [
    {
     "data": {
      "text/plain": [
       "8"
      ]
     },
     "execution_count": 8,
     "metadata": {},
     "output_type": "execute_result"
    }
   ],
   "source": [
    "psutil.cpu_count()"
   ]
  },
  {
   "cell_type": "code",
   "execution_count": null,
   "id": "applicable-contemporary",
   "metadata": {},
   "outputs": [],
   "source": [
    "Parallel ( n_jobs=2 ) ( delayed(sqrt)(i ** 2) for i in range(10) )"
   ]
  }
 ],
 "metadata": {
  "kernelspec": {
   "display_name": "Python 3",
   "language": "python",
   "name": "python3"
  },
  "language_info": {
   "codemirror_mode": {
    "name": "ipython",
    "version": 3
   },
   "file_extension": ".py",
   "mimetype": "text/x-python",
   "name": "python",
   "nbconvert_exporter": "python",
   "pygments_lexer": "ipython3",
   "version": "3.9.7"
  }
 },
 "nbformat": 4,
 "nbformat_minor": 5
}
