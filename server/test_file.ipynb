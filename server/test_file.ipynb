{
 "cells": [
  {
   "cell_type": "code",
   "execution_count": 1,
   "id": "57a1114a",
   "metadata": {
    "scrolled": true
   },
   "outputs": [
    {
     "name": "stdout",
     "output_type": "stream",
     "text": [
      "['lo', 'enp7s0']\n",
      "Addrs is {17: [{'addr': 'd8:cb:8a:9c:c3:c9', 'broadcast': 'ff:ff:ff:ff:ff:ff'}], 2: [{'addr': '192.168.31.88', 'netmask': '255.255.255.0', 'broadcast': '192.168.31.255'}], 10: [{'addr': 'fe80::f19:e23c:628b:99c0%enp7s0', 'netmask': 'ffff:ffff:ffff:ffff::'}]}\n",
      "Host is [{'addr': '192.168.31.88', 'netmask': '255.255.255.0', 'broadcast': '192.168.31.255'}]\n",
      "Iv4 is 192.168.31.88/255.255.0.0\n",
      "my net is 192.168.0.0/16\n",
      "Found client on 192.168.31.1\n",
      "9.758184432983398 seconds\n",
      "Found client on 192.168.31.88\n",
      "9.855848550796509 seconds\n",
      "79.53894543647766 seconds\n"
     ]
    }
   ],
   "source": [
    "import socket, netifaces, ipaddress\n",
    "import time\n",
    "start_time = time.time()\n",
    "\n",
    "target_interface=\"enp7s0\"\n",
    "family='AF_INET'\n",
    "search_port = \"80\" \n",
    "debug = True\n",
    "'''This function scans the network and looks for open ports in it. \n",
    "Returns a list of ip addresses that have the corresponding port open  '''\n",
    "clients = []\n",
    "\n",
    "interface_list=netifaces.interfaces() #получить список интерфейсов\n",
    "if debug == True:\n",
    "    print(interface_list)\n",
    "if target_interface not in interface_list:\n",
    "    print(\"You have entered the wrong target_interface\")\n",
    "\n",
    "\n",
    "addrs = netifaces.ifaddresses(target_interface)\n",
    "if debug == True:\n",
    "    print(f\"Addrs is {addrs}\")\n",
    "host=addrs[netifaces.AF_INET]\n",
    "if debug == True:\n",
    "    print(f\"Host is {host}\")\n",
    "ipv4=host[0]['addr']\n",
    "mask=host[0]['netmask']\n",
    "mask='255.255.0.0'\n",
    "if debug == True:\n",
    "    print(f\"Iv4 is {ipv4}/{mask}\")\n",
    "\n",
    "s=ipv4+\"/\"+mask\n",
    "net = ipaddress.IPv4Network(s, strict=False)\n",
    "if debug == True:\n",
    "    print(\"my net is\", net)\n",
    "       \n",
    "socket.setdefaulttimeout(0.01)\n",
    "#sock = socket.socket(socket.AF_INET, socket.SOCK_STREAM)\n",
    "\n",
    "for addr in net:\n",
    "    #print(f\"ip is {addr}\")\n",
    "    \n",
    "    sock = socket.socket(socket.AF_INET, socket.SOCK_STREAM)\n",
    "    sock.settimeout(0.001)\n",
    "    result = sock.connect_ex((str(addr),int(search_port)))\n",
    "    sock.close()\n",
    "    if result == 0:\n",
    "        print(f\"Found client on {addr}\")\n",
    "        clients.append(addr)\n",
    "        print (time.time() - start_time, \"seconds\")\n",
    "\n",
    "print (time.time() - start_time, \"seconds\")\n",
    "\n",
    "\n"
   ]
  },
  {
   "cell_type": "code",
   "execution_count": 2,
   "id": "e79cbc3f",
   "metadata": {
    "scrolled": true
   },
   "outputs": [
    {
     "data": {
      "text/plain": [
       "0.001"
      ]
     },
     "execution_count": 2,
     "metadata": {},
     "output_type": "execute_result"
    }
   ],
   "source": [
    "sock.timeout"
   ]
  },
  {
   "cell_type": "code",
   "execution_count": 3,
   "id": "41d28b04",
   "metadata": {},
   "outputs": [
    {
     "data": {
      "text/plain": [
       "0"
      ]
     },
     "execution_count": 3,
     "metadata": {},
     "output_type": "execute_result"
    }
   ],
   "source": [
    "sock = socket.socket(socket.AF_INET, socket.SOCK_STREAM)\n",
    "result = sock.connect_ex((str(\"192.168.31.1\"),int(80)))\n",
    "result"
   ]
  }
 ],
 "metadata": {
  "kernelspec": {
   "display_name": "Python 3 (ipykernel)",
   "language": "python",
   "name": "python3"
  },
  "language_info": {
   "codemirror_mode": {
    "name": "ipython",
    "version": 3
   },
   "file_extension": ".py",
   "mimetype": "text/x-python",
   "name": "python",
   "nbconvert_exporter": "python",
   "pygments_lexer": "ipython3",
   "version": "3.8.10"
  }
 },
 "nbformat": 4,
 "nbformat_minor": 5
}
