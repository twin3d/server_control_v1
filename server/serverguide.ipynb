{
 "cells": [
  {
   "cell_type": "markdown",
   "id": "169fa80d",
   "metadata": {},
   "source": [
    "# Как пользоваться моим кодом?"
   ]
  },
  {
   "cell_type": "markdown",
   "id": "68ffdd36",
   "metadata": {},
   "source": [
    "# Как импортировать мою либу\n"
   ]
  },
  {
   "cell_type": "code",
   "execution_count": 6,
   "id": "767e0b04",
   "metadata": {},
   "outputs": [],
   "source": [
    "from server import *"
   ]
  },
  {
   "cell_type": "markdown",
   "id": "a3abb0f5",
   "metadata": {},
   "source": [
    "Что нужно передать в мою программу:\n",
    "    1) интерфейс в виде строки (в терминале ifconfig -a)\n",
    "    2) коммуникационный домем, по умолчанию AF_INET\n",
    "    3) Порт на котором Вы хотите найти клиента, по умолчанию 51815\n",
    "    4) True/False - хотите ли вы увидеть debug информацию, по умолчанию True \n",
    "    5) Маску сети, с которой на которой вы хотите искать клиентов, по умолчанию - 24"
   ]
  },
  {
   "cell_type": "markdown",
   "id": "5c19a7c2",
   "metadata": {},
   "source": [
    "Вы можетеполучить список интерфейсов запустив следующий блок:"
   ]
  },
  {
   "cell_type": "code",
   "execution_count": 2,
   "id": "81658b34",
   "metadata": {},
   "outputs": [
    {
     "name": "stdout",
     "output_type": "stream",
     "text": [
      "['lo', 'enp4s0', 'outline-tun0', 'docker0']\n"
     ]
    }
   ],
   "source": [
    "import netifaces\n",
    "interface_list=netifaces.interfaces() \n",
    "print(interface_list)"
   ]
  },
  {
   "cell_type": "code",
   "execution_count": 3,
   "id": "30a7bd61",
   "metadata": {},
   "outputs": [],
   "source": [
    "import logging\n",
    "logger = logging.getLogger()\n",
    "logger.setLevel(logging.DEBUG)"
   ]
  },
  {
   "cell_type": "markdown",
   "id": "c08876a2",
   "metadata": {},
   "source": [
    "Пробуем запустить наш код:"
   ]
  },
  {
   "cell_type": "markdown",
   "id": "6ff9061c",
   "metadata": {},
   "source": [
    "на работе рабочий интерфейс enx000ec65e8e39"
   ]
  },
  {
   "cell_type": "code",
   "execution_count": 4,
   "id": "fc218603",
   "metadata": {},
   "outputs": [
    {
     "name": "stderr",
     "output_type": "stream",
     "text": [
      "DEBUG:root:Debug level is debug\n",
      "DEBUG:root:search_port is 51815, socket_timeout is  0.001\n",
      "DEBUG:root:interface_list is ['lo', 'enp4s0', 'outline-tun0', 'docker0']\n",
      "DEBUG:root:Host is [{'addr': '192.160.21.19', 'netmask': '255.255.255.0', 'broadcast': '192.160.21.255'}]\n",
      "DEBUG:root:Iv4 is 192.160.21.19/255.255.255.0\n",
      "DEBUG:root:my net is 192.160.21.0/24\n",
      "DEBUG:root:search_port is 51815\n",
      "DEBUG:root:Found client on 192.160.21.11\n",
      "DEBUG:root:connect done\n",
      "DEBUG:root:got message  Hi, glad to see u\n",
      "DEBUG:root:keys are equal\n",
      "DEBUG:root:got client data\n",
      "DEBUG:root:{'scaner_name': 'scaner1', 'scaner_type': 'Big', 'mac_addr': 'e4:5f:01:40:f5:c7'}\n",
      "DEBUG:root:output_type is None\n"
     ]
    }
   ],
   "source": [
    "get_client_ips(target_interface = \"enp4s0\", mask = \"255.255.255.0\", config_file = \"config.ini\" , output_file = None)"
   ]
  },
  {
   "cell_type": "markdown",
   "id": "oriental-muscle",
   "metadata": {},
   "source": [
    "Обратите внимание, если указать `output_file`, то в него будет сохранен вывод."
   ]
  },
  {
   "cell_type": "markdown",
   "id": "111f621d",
   "metadata": {},
   "source": [
    "***"
   ]
  }
 ],
 "metadata": {
  "kernelspec": {
   "display_name": "Python 3",
   "language": "python",
   "name": "python3"
  },
  "language_info": {
   "codemirror_mode": {
    "name": "ipython",
    "version": 3
   },
   "file_extension": ".py",
   "mimetype": "text/x-python",
   "name": "python",
   "nbconvert_exporter": "python",
   "pygments_lexer": "ipython3",
   "version": "3.9.7"
  }
 },
 "nbformat": 4,
 "nbformat_minor": 5
}
