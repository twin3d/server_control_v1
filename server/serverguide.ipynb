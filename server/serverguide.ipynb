{
 "cells": [
  {
   "cell_type": "markdown",
   "id": "82b29802",
   "metadata": {},
   "source": [
    "# Как пользоваться моим кодом?"
   ]
  },
  {
   "cell_type": "markdown",
   "id": "194ef12d",
   "metadata": {},
   "source": [
    "# Как импортировать мою либу\n"
   ]
  },
  {
   "cell_type": "code",
   "execution_count": 1,
   "id": "7cd7d73f",
   "metadata": {},
   "outputs": [],
   "source": [
    "from get_client_ips import *"
   ]
  },
  {
   "cell_type": "markdown",
   "id": "6b2fcbff",
   "metadata": {},
   "source": [
    "Что нужно передать в мою программу:\n",
    "    1) интерфейс в виде строки (в терминале ifconfig -a)\n",
    "    2) коммуникационный домем, по умолчанию AF_INET\n",
    "    3) Порт на котором Вы хотите найти клиента, по умолчанию 51815\n",
    "    4) True/False - хотите ли вы увидеть debug информацию, по умолчанию True \n",
    "    5) Маску сети, с которой на которой вы хотите искать клиентов, по умолчанию - 24"
   ]
  },
  {
   "cell_type": "markdown",
   "id": "4fb38d05",
   "metadata": {},
   "source": [
    "Вы можетеполучить список интерфейсов запустив следующий блок:"
   ]
  },
  {
   "cell_type": "code",
   "execution_count": 2,
   "id": "867fea20",
   "metadata": {},
   "outputs": [
    {
     "name": "stdout",
     "output_type": "stream",
     "text": [
      "['lo', 'enp7s0']\n"
     ]
    }
   ],
   "source": [
    "import netifaces\n",
    "interface_list=netifaces.interfaces() \n",
    "print(interface_list)"
   ]
  },
  {
   "cell_type": "markdown",
   "id": "288ff791",
   "metadata": {},
   "source": [
    "Пробуем запустить наш код:"
   ]
  },
  {
   "cell_type": "code",
   "execution_count": 3,
   "id": "7f6d73dc",
   "metadata": {},
   "outputs": [
    {
     "name": "stdout",
     "output_type": "stream",
     "text": [
      "['lo', 'enp7s0']\n",
      "Host is [{'addr': '192.168.31.88', 'netmask': '255.255.255.0', 'broadcast': '192.168.31.255'}]\n",
      "Iv4 is 192.168.31.88/255.255.255.0\n",
      "my net is 192.168.31.0/24\n",
      "search_port is 51815\n",
      "Found client on 192.168.31.88\n",
      "connect done\n",
      "Hi, glad to see u\n",
      "he is a good boy!\n"
     ]
    },
    {
     "data": {
      "text/plain": [
       "[IPv4Address('192.168.31.88')]"
      ]
     },
     "execution_count": 3,
     "metadata": {},
     "output_type": "execute_result"
    }
   ],
   "source": [
    "get_client_ips(target_interface = \"enp7s0\", mask = \"255.255.255.0\")"
   ]
  },
  {
   "cell_type": "markdown",
   "id": "c93e0e5d",
   "metadata": {},
   "source": [
    "***"
   ]
  }
 ],
 "metadata": {
  "kernelspec": {
   "display_name": "Python 3 (ipykernel)",
   "language": "python",
   "name": "python3"
  },
  "language_info": {
   "codemirror_mode": {
    "name": "ipython",
    "version": 3
   },
   "file_extension": ".py",
   "mimetype": "text/x-python",
   "name": "python",
   "nbconvert_exporter": "python",
   "pygments_lexer": "ipython3",
   "version": "3.8.10"
  }
 },
 "nbformat": 4,
 "nbformat_minor": 5
}
