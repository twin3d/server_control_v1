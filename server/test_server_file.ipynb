{
 "cells": [
  {
   "cell_type": "markdown",
   "id": "0b9d6c39",
   "metadata": {},
   "source": [
    "# Как пользоваться моим кодом?"
   ]
  },
  {
   "cell_type": "markdown",
   "id": "98518dff",
   "metadata": {},
   "source": [
    "# Как импортировать мою либу\n"
   ]
  },
  {
   "cell_type": "code",
   "execution_count": 1,
   "id": "1fd9e445",
   "metadata": {},
   "outputs": [],
   "source": [
    "from server import *\n"
   ]
  },
  {
   "cell_type": "markdown",
   "id": "402d9152",
   "metadata": {},
   "source": [
    "Что нужно передать в мою программу:\n",
    "    1) интерфейс в виде строки (в терминале ifconfig -a)\n",
    "    2) коммуникационный домем, по умолчанию AF_INET\n",
    "    3) Порт на котором Вы хотите найти клиента, по умолчанию 51815\n",
    "    4) True/False - хотите ли вы увидеть debug информацию, по умолчанию True \n",
    "    5) Маску сети, с которой на которой вы хотите искать клиентов, по умолчанию - 24"
   ]
  },
  {
   "cell_type": "markdown",
   "id": "4a291837",
   "metadata": {},
   "source": [
    "Вы можетеполучить список интерфейсов запустив следующий блок:"
   ]
  },
  {
   "cell_type": "code",
   "execution_count": 2,
   "id": "5a59ba46",
   "metadata": {},
   "outputs": [
    {
     "name": "stdout",
     "output_type": "stream",
     "text": [
      "['lo', 'enp3s0', 'wlo1']\n"
     ]
    }
   ],
   "source": [
    "import netifaces\n",
    "interface_list=netifaces.interfaces() \n",
    "print(interface_list)"
   ]
  },
  {
   "cell_type": "markdown",
   "id": "6da8c9e8",
   "metadata": {},
   "source": [
    "Пробуем запустить наш код:"
   ]
  },
  {
   "cell_type": "code",
   "execution_count": 3,
   "id": "3869ad58",
   "metadata": {},
   "outputs": [
    {
     "name": "stderr",
     "output_type": "stream",
     "text": [
      "DEBUG:root:search_port is 51815, socket_timeout is  0.1\n",
      "DEBUG:root:interface_list is ['lo', 'enp3s0', 'wlo1']\n",
      "ERROR:root:You have entered the wrong target_interface\n"
     ]
    },
    {
     "name": "stdout",
     "output_type": "stream",
     "text": [
      "config\n",
      "log\n"
     ]
    },
    {
     "data": {
      "text/plain": [
       "'NO_INTERFACE'"
      ]
     },
     "execution_count": 3,
     "metadata": {},
     "output_type": "execute_result"
    }
   ],
   "source": [
    "ips=get_client_ips(target_interface = \"enp7s0\", mask = \"255.255.255.0\")\n",
    "ips"
   ]
  },
  {
   "cell_type": "code",
   "execution_count": 4,
   "id": "017b8508",
   "metadata": {},
   "outputs": [],
   "source": [
    "import configparser\n"
   ]
  },
  {
   "cell_type": "code",
   "execution_count": 5,
   "id": "cb2305a4",
   "metadata": {},
   "outputs": [
    {
     "data": {
      "text/plain": [
       "'No interface'"
      ]
     },
     "execution_count": 5,
     "metadata": {},
     "output_type": "execute_result"
    }
   ],
   "source": [
    "guess_interface()"
   ]
  },
  {
   "cell_type": "code",
   "execution_count": null,
   "id": "502cd7d7",
   "metadata": {},
   "outputs": [],
   "source": []
  },
  {
   "cell_type": "code",
   "execution_count": null,
   "id": "df9592f3",
   "metadata": {},
   "outputs": [],
   "source": []
  }
 ],
 "metadata": {
  "kernelspec": {
   "display_name": "Python 3",
   "language": "python",
   "name": "python3"
  },
  "language_info": {
   "codemirror_mode": {
    "name": "ipython",
    "version": 3
   },
   "file_extension": ".py",
   "mimetype": "text/x-python",
   "name": "python",
   "nbconvert_exporter": "python",
   "pygments_lexer": "ipython3",
   "version": "3.8.10"
  }
 },
 "nbformat": 4,
 "nbformat_minor": 5
}
