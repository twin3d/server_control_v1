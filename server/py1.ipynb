{
 "cells": [
  {
   "cell_type": "code",
   "execution_count": 2,
   "id": "57a1114a",
   "metadata": {
    "scrolled": true
   },
   "outputs": [
    {
     "name": "stdout",
     "output_type": "stream",
     "text": [
      "['lo', 'enp7s0']\n",
      "{17: [{'addr': 'd8:cb:8a:9c:c3:c9', 'broadcast': 'ff:ff:ff:ff:ff:ff'}], 2: [{'addr': '192.168.31.88', 'netmask': '255.255.255.0', 'broadcast': '192.168.31.255'}], 10: [{'addr': 'fe80::f19:e23c:628b:99c0%enp7s0', 'netmask': 'ffff:ffff:ffff:ffff::'}]}\n",
      "192.168.31.88 255.255.255.0\n"
     ]
    },
    {
     "data": {
      "text/plain": [
       "IPv4Network('192.168.31.0/24')"
      ]
     },
     "execution_count": 2,
     "metadata": {},
     "output_type": "execute_result"
    }
   ],
   "source": [
    "import socket, netifaces,ipaddress\n",
    "input_interface=''\n",
    "default_interface='enp7s0'\n",
    "flag=0\n",
    "interface_list=netifaces.interfaces()#получить список интерфейсов\n",
    "print(interface_list)\n",
    "for i in interface_list:\n",
    "    if input_interface==i:\n",
    "        flag=1\n",
    "        interface=input_interface\n",
    "if flag==0:\n",
    "    interface=default_interface\n",
    "\n",
    "\n",
    "addrs = netifaces.ifaddresses(interface)\n",
    "print(addrs)\n",
    "host=addrs[netifaces.AF_INET]\n",
    "#print(host)\n",
    "ipv4=host[0]['addr']\n",
    "mask=host[0]['netmask']\n",
    "print(ipv4, mask)\n",
    "s=ipv4+\"/\"+mask\n",
    "net = ipaddress.IPv4Network(s, strict=False)\n",
    "net"
   ]
  },
  {
   "cell_type": "code",
   "execution_count": null,
   "id": "d45db986",
   "metadata": {},
   "outputs": [],
   "source": [
    "for addr in net:\n",
    "    sock = socket.socket(socket.AF_INET, socket.SOCK_STREAM)\n",
    "    for port in range(100,300):\n",
    "        result = sock.connect_ex((str(addr),port))\n",
    "        if result == 0:\n",
    "            print (\"Port is open\")\n",
    "        else:\n",
    "            #print (\"Port is not open\")"
   ]
  },
  {
   "cell_type": "code",
   "execution_count": 13,
   "id": "52ec2674",
   "metadata": {},
   "outputs": [
    {
     "data": {
      "text/plain": [
       "str"
      ]
     },
     "execution_count": 13,
     "metadata": {},
     "output_type": "execute_result"
    }
   ],
   "source": [
    "s=\"123\"\n",
    "type(s)"
   ]
  }
 ],
 "metadata": {
  "kernelspec": {
   "display_name": "Python 3 (ipykernel)",
   "language": "python",
   "name": "python3"
  },
  "language_info": {
   "codemirror_mode": {
    "name": "ipython",
    "version": 3
   },
   "file_extension": ".py",
   "mimetype": "text/x-python",
   "name": "python",
   "nbconvert_exporter": "python",
   "pygments_lexer": "ipython3",
   "version": "3.8.10"
  }
 },
 "nbformat": 4,
 "nbformat_minor": 5
}
