{
 "cells": [
  {
   "cell_type": "code",
   "execution_count": 2,
   "id": "57a1114a",
   "metadata": {},
   "outputs": [
    {
     "name": "stdout",
     "output_type": "stream",
     "text": [
      "['lo', 'enp7s0']\n",
      "{17: [{'addr': 'd8:cb:8a:9c:c3:c9', 'broadcast': 'ff:ff:ff:ff:ff:ff'}], 2: [{'addr': '192.168.31.88', 'netmask': '255.255.255.0', 'broadcast': '192.168.31.255'}], 10: [{'addr': 'fe80::f19:e23c:628b:99c0%enp7s0', 'netmask': 'ffff:ffff:ffff:ffff::'}]}\n",
      "192.168.31.88 255.255.255.0\n"
     ]
    }
   ],
   "source": [
    "import socket, netifaces,ipaddress\n",
    "input_interface=''\n",
    "default_interface='enp7s0'\n",
    "flag=0\n",
    "interface_list=netifaces.interfaces()#получить список интерфейсов\n",
    "print(interface_list)\n",
    "for i in interface_list:\n",
    "    if input_interface==i:\n",
    "        flag=1\n",
    "        interface=input_interface\n",
    "if flag==0:\n",
    "    interface=default_interface\n",
    "\n",
    "\n",
    "addrs = netifaces.ifaddresses(interface)\n",
    "print(addrs)\n",
    "host=addrs[netifaces.AF_INET]\n",
    "#print(host)\n",
    "ipv4=host[0]['addr']\n",
    "mask=host[0]['netmask']\n",
    "print(ipv4, mask)"
   ]
  },
  {
   "cell_type": "code",
   "execution_count": 5,
   "id": "b7692cfd",
   "metadata": {},
   "outputs": [
    {
     "data": {
      "text/plain": [
       "'192.168.31.88/255.255.255.0'"
      ]
     },
     "execution_count": 5,
     "metadata": {},
     "output_type": "execute_result"
    }
   ],
   "source": [
    "s=ipv4+\"/\"+mask\n",
    "s"
   ]
  },
  {
   "cell_type": "code",
   "execution_count": 6,
   "id": "4f7e2faa",
   "metadata": {},
   "outputs": [
    {
     "data": {
      "text/plain": [
       "IPv4Network('192.168.31.88/32')"
      ]
     },
     "execution_count": 6,
     "metadata": {},
     "output_type": "execute_result"
    }
   ],
   "source": [
    "net = ipaddress.IPv4Network(ipv4)\n",
    "net"
   ]
  }
 ],
 "metadata": {
  "kernelspec": {
   "display_name": "Python 3 (ipykernel)",
   "language": "python",
   "name": "python3"
  },
  "language_info": {
   "codemirror_mode": {
    "name": "ipython",
    "version": 3
   },
   "file_extension": ".py",
   "mimetype": "text/x-python",
   "name": "python",
   "nbconvert_exporter": "python",
   "pygments_lexer": "ipython3",
   "version": "3.8.10"
  }
 },
 "nbformat": 4,
 "nbformat_minor": 5
}
