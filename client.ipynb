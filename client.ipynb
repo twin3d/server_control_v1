{
 "cells": [
  {
   "cell_type": "code",
   "execution_count": null,
   "id": "ee655d65",
   "metadata": {},
   "outputs": [
    {
     "name": "stdout",
     "output_type": "stream",
     "text": [
      "['lo', 'enp7s0']\n",
      "Host is [{'addr': '192.168.31.88', 'netmask': '255.255.255.0', 'broadcast': '192.168.31.255'}]\n",
      "my ip 192.168.31.88\n",
      "connect done\n",
      "\n",
      "connect done\n",
      "Hi, glad to see u\n",
      "he is a good boy!\n"
     ]
    }
   ],
   "source": [
    "import socket, netifaces, ipaddress\n",
    "target_interface=\"enp7s0\"\n",
    "family='AF_INET'\n",
    "port = \"51815\" \n",
    "debug = True\n",
    "interface_list=netifaces.interfaces() #получить список интерфейсов\n",
    "if debug == True:\n",
    "    print(interface_list)\n",
    "if target_interface not in interface_list:\n",
    "    print(\"You have entered the wrong target_interface\")\n",
    "\n",
    "\n",
    "addrs = netifaces.ifaddresses(target_interface)\n",
    "if debug == True:\n",
    "    #print(f\"Addrs is {addrs}\")\n",
    "    pass\n",
    "host=addrs[netifaces.AF_INET]\n",
    "if debug == True:\n",
    "    print(f\"Host is {host}\")\n",
    "ipv4=host[0]['addr']\n",
    "mask=host[0]['netmask']\n",
    "\n",
    "if debug == True:\n",
    "    print(f\"my ip {ipv4}\")  \n",
    "\n",
    "message = \"Hi, glad to see u\"\n",
    "sock = socket.socket(socket.AF_INET, socket.SOCK_STREAM)\n",
    "sock.bind((ipv4, int(port)))\n",
    "sock.listen(5)\n",
    "data=\"\"\n",
    "while True:\n",
    "    conn, addr = sock.accept()\n",
    "    print(\"connect done\")\n",
    "    conn.send(\"Hi, glad to see u\".encode('utf8'))\n",
    "    data = conn.recv(1024)\n",
    "    print(data.decode(\"utf8\"))\n",
    "    if (data.decode('utf8')) == message:\n",
    "        print(\"he is a good boy!\")\n",
    "    \n",
    "    conn.close()\n",
    "    \n",
    "    \n"
   ]
  },
  {
   "cell_type": "code",
   "execution_count": null,
   "id": "0a4a187f",
   "metadata": {},
   "outputs": [],
   "source": [
    "str(data)"
   ]
  },
  {
   "cell_type": "code",
   "execution_count": null,
   "id": "f17bb4d5",
   "metadata": {},
   "outputs": [],
   "source": [
    "str(data)!=\"b''\""
   ]
  }
 ],
 "metadata": {
  "kernelspec": {
   "display_name": "Python 3 (ipykernel)",
   "language": "python",
   "name": "python3"
  },
  "language_info": {
   "codemirror_mode": {
    "name": "ipython",
    "version": 3
   },
   "file_extension": ".py",
   "mimetype": "text/x-python",
   "name": "python",
   "nbconvert_exporter": "python",
   "pygments_lexer": "ipython3",
   "version": "3.8.10"
  }
 },
 "nbformat": 4,
 "nbformat_minor": 5
}
